{
 "cells": [
  {
   "cell_type": "code",
   "execution_count": 1,
   "id": "350b31bc-f6a8-46ba-9f02-a9734bd8d7e6",
   "metadata": {},
   "outputs": [],
   "source": [
    "import random\n",
    "\n",
    "suits = [\"Diamonds\", \"Spades\", \"Hearts\", \"Clubs\"]  #Suit Names\n",
    "\n",
    "ranks = [\"Two\", \"Three\", \"Four\", \"Five\", \"Six\", \"Seven\", \"Eight\", \"Nine\", \"Ten\", \"Jack\", \"Queen\", \"King\", \"Ace\"]  #Rank of cards\n",
    "\n",
    "rank_value = {\"Two\": 2, \"Three\": 3,\"Four\": 4, \"Five\": 5, \"Six\": 6, \"Seven\": 7, \"Eight\": 8,    #Value of Cards\n",
    "              \"Nine\": 9, \"Ten\": 10, \"Jack\": 11, \"Queen\": 12, \"King\": 13, \"Ace\": 14}\n"
   ]
  },
  {
   "cell_type": "code",
   "execution_count": 2,
   "id": "c271e8b1-97eb-4235-a95c-8dce923fe608",
   "metadata": {},
   "outputs": [],
   "source": [
    "class Card:\n",
    "    def __init__(self, suit, rank):\n",
    "        self.suit = suit\n",
    "        self.rank = rank\n",
    "        self.value = rank_value[rank]\n",
    "        \n",
    "    def __str__(self):\n",
    "        return(f\"{self.rank} of {self.suit}\")"
   ]
  },
  {
   "cell_type": "code",
   "execution_count": 3,
   "id": "164025e8-31b6-49ca-b5e5-3e11f5317f5d",
   "metadata": {},
   "outputs": [],
   "source": [
    "class Decks:\n",
    "    \n",
    "    def __init__(self):\n",
    "        self.all_cards = []\n",
    "        for suit in suits:\n",
    "            for rank in ranks:\n",
    "               self.all_cards.append(Card(suit, rank))\n",
    "    def __str__(self):\n",
    "        return f\"Card Deck with 52 Cards\"\n",
    "\n",
    "    def shuffle(self):\n",
    "        random.shuffle(self.all_cards)\n",
    "\n",
    "    def deal_one(self):\n",
    "        return self.all_cards.pop(0)"
   ]
  },
  {
   "cell_type": "code",
   "execution_count": 4,
   "id": "9e57d290-f0e7-4f3f-bd0a-9279e86ca7c5",
   "metadata": {},
   "outputs": [],
   "source": [
    "class Players:\n",
    "    def __init__(self, name):\n",
    "        self.name = name\n",
    "        self.cards = []\n",
    "\n",
    "    def add_cards(self, my_cards):\n",
    "        if (type(my_cards)) == type([]):\n",
    "            self.cards.extend(my_cards)\n",
    "        else:\n",
    "            self.cards.append(my_cards)\n",
    "\n",
    "    def remove_cards(self):\n",
    "        return self.cards.pop(0)\n",
    "\n",
    "    def __str__(self):\n",
    "        return f\"{self.name} has {len(self.cards)} cards\""
   ]
  },
  {
   "cell_type": "code",
   "execution_count": 5,
   "id": "ee721d1b-b049-49c7-8e08-0a0655ee6b47",
   "metadata": {},
   "outputs": [],
   "source": [
    "def player_input():\n",
    "    while True:\n",
    "        Player1_input = input(\"Enter Your Name Player 1: \")\n",
    "        Player2_input = input(\"Enter Your name Player 2: \")\n",
    "        if Player1_input != Player2_input:\n",
    "            Player1 = Players(Player1_input)\n",
    "            Player2 = Players(Player2_input)\n",
    "            return (Player1, Player2)\n",
    "    "
   ]
  },
  {
   "cell_type": "code",
   "execution_count": 6,
   "id": "7a894268-91ba-421f-a515-f6149d3604c8",
   "metadata": {},
   "outputs": [],
   "source": [
    "def initial_cards(Player1, Player2):\n",
    "    deck = Decks()\n",
    "    deck.shuffle()\n",
    "    for i in range(len(deck.all_cards)):\n",
    "        if (i % 2 == 0):\n",
    "            Player1.add_cards(deck.deal_one())\n",
    "        else:\n",
    "            Player2.add_cards(deck.deal_one())"
   ]
  },
  {
   "cell_type": "code",
   "execution_count": 21,
   "id": "7e287ecd-9ade-4ea1-9e1c-7b76eeb73f0d",
   "metadata": {},
   "outputs": [],
   "source": [
    "def game_logic(Player1, Player2):\n",
    "    cards_on_table = []\n",
    "    max_rounds = 1000\n",
    "    rounds = 0\n",
    "    while True:\n",
    "        if (Player1.cards != [] and Player2.cards != []):\n",
    "            player1_card = Player1.remove_cards()\n",
    "            \n",
    "            player2_card = Player2.remove_cards()\n",
    "            \n",
    "            cards_on_table.extend([player1_card, player2_card])\n",
    "\n",
    "\n",
    "            if (player1_card.value > player2_card.value):\n",
    "                Player1.add_cards(cards_on_table)\n",
    "                cards_on_table = []\n",
    "\n",
    "            elif (player1_card.value < player2_card.value):\n",
    "                Player2.add_cards(cards_on_table)\n",
    "                cards_on_table = []\n",
    "\n",
    "            else:\n",
    "                print(\"WAR!!\")\n",
    "                \n",
    "                war = True\n",
    "                while war:\n",
    "                    if (len(Player1.cards) < 4 and len(Player2.cards) < 4):\n",
    "                        return \"Draw!\"\n",
    "                        \n",
    "                    elif (len(Player1.cards) < 4):\n",
    "                        return f\"{Player2.name} has Won!!\"\n",
    "    \n",
    "                    elif (len(Player2.cards) < 4):\n",
    "                        return f\"{Player1.name} has Won!!\"\n",
    "    \n",
    "                    else:\n",
    "                        rounds += 1\n",
    "                        if (rounds >= max_rounds):\n",
    "                            return \"Draw!!\"\n",
    "                        \n",
    "                        for _ in range(3):\n",
    "                            cards_on_table.extend([Player1.remove_cards(), Player2.remove_cards()])\n",
    "\n",
    "                        player1_card = Player1.remove_cards()\n",
    "            \n",
    "                        player2_card = Player2.remove_cards()\n",
    "                        \n",
    "                        cards_on_table.extend([player1_card, player2_card])\n",
    "            \n",
    "            \n",
    "                        if (player1_card.value > player2_card.value):\n",
    "                            Player1.add_cards(cards_on_table)\n",
    "                            cards_on_table = []\n",
    "            \n",
    "                        elif (player1_card.value < player2_card.value):\n",
    "                            Player2.add_cards(cards_on_table)\n",
    "                            cards_on_table = []\n",
    "                        \n",
    "                    \n",
    "        else:\n",
    "            return f\"{Player1.name} has Won!!\" if Player2.cards == [] else f\"{Player2.name} has Won!!\""
   ]
  },
  {
   "cell_type": "code",
   "execution_count": 22,
   "id": "616fbc62-4153-4f3b-9ee1-35fcbc879f13",
   "metadata": {},
   "outputs": [],
   "source": [
    "def game_run():\n",
    "    Player1, Player2 = player_input()\n",
    "    \n",
    "    initial_cards(Player1, Player2)\n",
    "    \n",
    "    print(game_logic(Player1, Player2))"
   ]
  },
  {
   "cell_type": "code",
   "execution_count": 23,
   "id": "d0e8a590-d460-4d87-af19-7e907e618b91",
   "metadata": {},
   "outputs": [
    {
     "name": "stdin",
     "output_type": "stream",
     "text": [
      "Enter Your Name Player 1:  Goku\n",
      "Enter Your name Player 2:  Vegeta\n"
     ]
    },
    {
     "name": "stdout",
     "output_type": "stream",
     "text": [
      "WAR!!\n",
      "Vegeta has Won!!\n"
     ]
    }
   ],
   "source": [
    "game_run()"
   ]
  },
  {
   "cell_type": "code",
   "execution_count": null,
   "id": "f621ba3d-6749-4ed5-953e-999472af35b1",
   "metadata": {},
   "outputs": [],
   "source": []
  },
  {
   "cell_type": "code",
   "execution_count": null,
   "id": "af64d159-c22a-4f15-940e-ff63b98ebac4",
   "metadata": {},
   "outputs": [],
   "source": []
  }
 ],
 "metadata": {
  "kernelspec": {
   "display_name": "Python 3 (ipykernel)",
   "language": "python",
   "name": "python3"
  },
  "language_info": {
   "codemirror_mode": {
    "name": "ipython",
    "version": 3
   },
   "file_extension": ".py",
   "mimetype": "text/x-python",
   "name": "python",
   "nbconvert_exporter": "python",
   "pygments_lexer": "ipython3",
   "version": "3.12.7"
  }
 },
 "nbformat": 4,
 "nbformat_minor": 5
}
